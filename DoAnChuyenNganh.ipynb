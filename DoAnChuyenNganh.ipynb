{
 "cells": [
  {
   "cell_type": "markdown",
   "id": "5987c611",
   "metadata": {},
   "source": [
    "## Predicting Stroke using Machine Learning\n"
   ]
  },
  {
   "cell_type": "code",
   "execution_count": 1,
   "id": "0ed4ff58",
   "metadata": {},
   "outputs": [],
   "source": [
    "#Các thư viện cần thiết trực quan và phân tích\n",
    "import numpy as np\n",
    "import pandas as pd\n",
    "import matplotlib.pyplot as plt\n",
    "import seaborn as sns\n",
    "# Các mô hình sẽ áp dụng\n",
    "from sklearn.linear_model import LogisticRegression\n",
    "from sklearn.ensemble import RandomForestClassifier\n",
    "#Bước tiền xử lý\n",
    "from sklearn import preprocessing"
   ]
  },
  {
   "cell_type": "code",
   "execution_count": 2,
   "id": "91c204b1",
   "metadata": {},
   "outputs": [],
   "source": [
    "df=pd.read_csv('healthcare-dataset-stroke-data.csv')"
   ]
  },
  {
   "cell_type": "code",
   "execution_count": 3,
   "id": "0072ae9c",
   "metadata": {},
   "outputs": [
    {
     "data": {
      "text/plain": [
       "(5110, 12)"
      ]
     },
     "execution_count": 3,
     "metadata": {},
     "output_type": "execute_result"
    }
   ],
   "source": [
    "df.shape"
   ]
  },
  {
   "cell_type": "code",
   "execution_count": 4,
   "id": "5463cfcf",
   "metadata": {},
   "outputs": [
    {
     "data": {
      "text/html": [
       "<div>\n",
       "<style scoped>\n",
       "    .dataframe tbody tr th:only-of-type {\n",
       "        vertical-align: middle;\n",
       "    }\n",
       "\n",
       "    .dataframe tbody tr th {\n",
       "        vertical-align: top;\n",
       "    }\n",
       "\n",
       "    .dataframe thead th {\n",
       "        text-align: right;\n",
       "    }\n",
       "</style>\n",
       "<table border=\"1\" class=\"dataframe\">\n",
       "  <thead>\n",
       "    <tr style=\"text-align: right;\">\n",
       "      <th></th>\n",
       "      <th>id</th>\n",
       "      <th>gender</th>\n",
       "      <th>age</th>\n",
       "      <th>hypertension</th>\n",
       "      <th>heart_disease</th>\n",
       "      <th>ever_married</th>\n",
       "      <th>work_type</th>\n",
       "      <th>Residence_type</th>\n",
       "      <th>avg_glucose_level</th>\n",
       "      <th>bmi</th>\n",
       "      <th>smoking_status</th>\n",
       "      <th>stroke</th>\n",
       "    </tr>\n",
       "  </thead>\n",
       "  <tbody>\n",
       "    <tr>\n",
       "      <th>0</th>\n",
       "      <td>9046</td>\n",
       "      <td>Male</td>\n",
       "      <td>67.0</td>\n",
       "      <td>0</td>\n",
       "      <td>1</td>\n",
       "      <td>Yes</td>\n",
       "      <td>Private</td>\n",
       "      <td>Urban</td>\n",
       "      <td>228.69</td>\n",
       "      <td>36.6</td>\n",
       "      <td>formerly smoked</td>\n",
       "      <td>1</td>\n",
       "    </tr>\n",
       "    <tr>\n",
       "      <th>1</th>\n",
       "      <td>51676</td>\n",
       "      <td>Female</td>\n",
       "      <td>61.0</td>\n",
       "      <td>0</td>\n",
       "      <td>0</td>\n",
       "      <td>Yes</td>\n",
       "      <td>Self-employed</td>\n",
       "      <td>Rural</td>\n",
       "      <td>202.21</td>\n",
       "      <td>NaN</td>\n",
       "      <td>never smoked</td>\n",
       "      <td>1</td>\n",
       "    </tr>\n",
       "    <tr>\n",
       "      <th>2</th>\n",
       "      <td>31112</td>\n",
       "      <td>Male</td>\n",
       "      <td>80.0</td>\n",
       "      <td>0</td>\n",
       "      <td>1</td>\n",
       "      <td>Yes</td>\n",
       "      <td>Private</td>\n",
       "      <td>Rural</td>\n",
       "      <td>105.92</td>\n",
       "      <td>32.5</td>\n",
       "      <td>never smoked</td>\n",
       "      <td>1</td>\n",
       "    </tr>\n",
       "    <tr>\n",
       "      <th>3</th>\n",
       "      <td>60182</td>\n",
       "      <td>Female</td>\n",
       "      <td>49.0</td>\n",
       "      <td>0</td>\n",
       "      <td>0</td>\n",
       "      <td>Yes</td>\n",
       "      <td>Private</td>\n",
       "      <td>Urban</td>\n",
       "      <td>171.23</td>\n",
       "      <td>34.4</td>\n",
       "      <td>smokes</td>\n",
       "      <td>1</td>\n",
       "    </tr>\n",
       "    <tr>\n",
       "      <th>4</th>\n",
       "      <td>1665</td>\n",
       "      <td>Female</td>\n",
       "      <td>79.0</td>\n",
       "      <td>1</td>\n",
       "      <td>0</td>\n",
       "      <td>Yes</td>\n",
       "      <td>Self-employed</td>\n",
       "      <td>Rural</td>\n",
       "      <td>174.12</td>\n",
       "      <td>24.0</td>\n",
       "      <td>never smoked</td>\n",
       "      <td>1</td>\n",
       "    </tr>\n",
       "  </tbody>\n",
       "</table>\n",
       "</div>"
      ],
      "text/plain": [
       "      id  gender   age  hypertension  heart_disease ever_married  \\\n",
       "0   9046    Male  67.0             0              1          Yes   \n",
       "1  51676  Female  61.0             0              0          Yes   \n",
       "2  31112    Male  80.0             0              1          Yes   \n",
       "3  60182  Female  49.0             0              0          Yes   \n",
       "4   1665  Female  79.0             1              0          Yes   \n",
       "\n",
       "       work_type Residence_type  avg_glucose_level   bmi   smoking_status  \\\n",
       "0        Private          Urban             228.69  36.6  formerly smoked   \n",
       "1  Self-employed          Rural             202.21   NaN     never smoked   \n",
       "2        Private          Rural             105.92  32.5     never smoked   \n",
       "3        Private          Urban             171.23  34.4           smokes   \n",
       "4  Self-employed          Rural             174.12  24.0     never smoked   \n",
       "\n",
       "   stroke  \n",
       "0       1  \n",
       "1       1  \n",
       "2       1  \n",
       "3       1  \n",
       "4       1  "
      ]
     },
     "execution_count": 4,
     "metadata": {},
     "output_type": "execute_result"
    }
   ],
   "source": [
    "df.head()"
   ]
  },
  {
   "cell_type": "code",
   "execution_count": 5,
   "id": "4f2e7aa5",
   "metadata": {},
   "outputs": [
    {
     "data": {
      "text/html": [
       "<div>\n",
       "<style scoped>\n",
       "    .dataframe tbody tr th:only-of-type {\n",
       "        vertical-align: middle;\n",
       "    }\n",
       "\n",
       "    .dataframe tbody tr th {\n",
       "        vertical-align: top;\n",
       "    }\n",
       "\n",
       "    .dataframe thead th {\n",
       "        text-align: right;\n",
       "    }\n",
       "</style>\n",
       "<table border=\"1\" class=\"dataframe\">\n",
       "  <thead>\n",
       "    <tr style=\"text-align: right;\">\n",
       "      <th></th>\n",
       "      <th>id</th>\n",
       "      <th>gender</th>\n",
       "      <th>age</th>\n",
       "      <th>hypertension</th>\n",
       "      <th>heart_disease</th>\n",
       "      <th>ever_married</th>\n",
       "      <th>work_type</th>\n",
       "      <th>Residence_type</th>\n",
       "      <th>avg_glucose_level</th>\n",
       "      <th>bmi</th>\n",
       "      <th>smoking_status</th>\n",
       "      <th>stroke</th>\n",
       "    </tr>\n",
       "  </thead>\n",
       "  <tbody>\n",
       "    <tr>\n",
       "      <th>5105</th>\n",
       "      <td>18234</td>\n",
       "      <td>Female</td>\n",
       "      <td>80.0</td>\n",
       "      <td>1</td>\n",
       "      <td>0</td>\n",
       "      <td>Yes</td>\n",
       "      <td>Private</td>\n",
       "      <td>Urban</td>\n",
       "      <td>83.75</td>\n",
       "      <td>NaN</td>\n",
       "      <td>never smoked</td>\n",
       "      <td>0</td>\n",
       "    </tr>\n",
       "    <tr>\n",
       "      <th>5106</th>\n",
       "      <td>44873</td>\n",
       "      <td>Female</td>\n",
       "      <td>81.0</td>\n",
       "      <td>0</td>\n",
       "      <td>0</td>\n",
       "      <td>Yes</td>\n",
       "      <td>Self-employed</td>\n",
       "      <td>Urban</td>\n",
       "      <td>125.20</td>\n",
       "      <td>40.0</td>\n",
       "      <td>never smoked</td>\n",
       "      <td>0</td>\n",
       "    </tr>\n",
       "    <tr>\n",
       "      <th>5107</th>\n",
       "      <td>19723</td>\n",
       "      <td>Female</td>\n",
       "      <td>35.0</td>\n",
       "      <td>0</td>\n",
       "      <td>0</td>\n",
       "      <td>Yes</td>\n",
       "      <td>Self-employed</td>\n",
       "      <td>Rural</td>\n",
       "      <td>82.99</td>\n",
       "      <td>30.6</td>\n",
       "      <td>never smoked</td>\n",
       "      <td>0</td>\n",
       "    </tr>\n",
       "    <tr>\n",
       "      <th>5108</th>\n",
       "      <td>37544</td>\n",
       "      <td>Male</td>\n",
       "      <td>51.0</td>\n",
       "      <td>0</td>\n",
       "      <td>0</td>\n",
       "      <td>Yes</td>\n",
       "      <td>Private</td>\n",
       "      <td>Rural</td>\n",
       "      <td>166.29</td>\n",
       "      <td>25.6</td>\n",
       "      <td>formerly smoked</td>\n",
       "      <td>0</td>\n",
       "    </tr>\n",
       "    <tr>\n",
       "      <th>5109</th>\n",
       "      <td>44679</td>\n",
       "      <td>Female</td>\n",
       "      <td>44.0</td>\n",
       "      <td>0</td>\n",
       "      <td>0</td>\n",
       "      <td>Yes</td>\n",
       "      <td>Govt_job</td>\n",
       "      <td>Urban</td>\n",
       "      <td>85.28</td>\n",
       "      <td>26.2</td>\n",
       "      <td>Unknown</td>\n",
       "      <td>0</td>\n",
       "    </tr>\n",
       "  </tbody>\n",
       "</table>\n",
       "</div>"
      ],
      "text/plain": [
       "         id  gender   age  hypertension  heart_disease ever_married  \\\n",
       "5105  18234  Female  80.0             1              0          Yes   \n",
       "5106  44873  Female  81.0             0              0          Yes   \n",
       "5107  19723  Female  35.0             0              0          Yes   \n",
       "5108  37544    Male  51.0             0              0          Yes   \n",
       "5109  44679  Female  44.0             0              0          Yes   \n",
       "\n",
       "          work_type Residence_type  avg_glucose_level   bmi   smoking_status  \\\n",
       "5105        Private          Urban              83.75   NaN     never smoked   \n",
       "5106  Self-employed          Urban             125.20  40.0     never smoked   \n",
       "5107  Self-employed          Rural              82.99  30.6     never smoked   \n",
       "5108        Private          Rural             166.29  25.6  formerly smoked   \n",
       "5109       Govt_job          Urban              85.28  26.2          Unknown   \n",
       "\n",
       "      stroke  \n",
       "5105       0  \n",
       "5106       0  \n",
       "5107       0  \n",
       "5108       0  \n",
       "5109       0  "
      ]
     },
     "execution_count": 5,
     "metadata": {},
     "output_type": "execute_result"
    }
   ],
   "source": [
    "df.tail()"
   ]
  },
  {
   "cell_type": "markdown",
   "id": "e70e0c62",
   "metadata": {},
   "source": [
    "1. id: Mã định danh duy nhất\n",
    "2. gender:- Giới tính -\n",
    "*  'Male'=Nam,\n",
    "*  'Female'=Nữ,\n",
    "*  'Other'=Khác\n",
    "3. age: -Tuổi tác\n",
    "4. hypertension: \n",
    "*   0- bệnh nhân không bị tăng huyết áp,  \n",
    "*   1- bệnh nhân bị tăng huyết áp\n",
    "5. heart_disease:\n",
    "*   0- bệnh nhân không bị bệnh tim, \n",
    "*   1- bệnh nhân bị bệnh tim\n",
    "6. ever_married: 'Yes'- Có, 'No'-Không\n",
    "7. work_type: \n",
    "*   'Children'=Trẻ em, \n",
    "*   'Got_jov'=Nhân viên chính phủ, \n",
    "*   'Never_worked'=Chưa từng làm việc, \n",
    "*   'Private'=Tư nhân, \n",
    "*   'Self_employed'=Tự kinh doanh\n",
    "8. Residence_type: \n",
    "*   'Rural'=Nông thôn\n",
    "*   'Urban'=Thành thị\n",
    "9. avg_glucose_level: mức đường huyết trung bình\n",
    "10. bmi:chỉ số khối cơ thể\n",
    "11. smoking_status:\n",
    "*    'formely smoked': đã từng hút thuốc\n",
    "*    'never smoked':chưa từng hút thuốc\n",
    "*    'smokes':đang hút thuốc\n",
    "*    'Unknown':Chưa biết\n",
    "12. Stroke: 0- không bị đột quỵ, 1- bị bệnh đột quỵ\n",
    "\n",
    "    *Ghi chú: \"Unknown\" trong thuộc tính 'Smoking_status' nghĩa là thông tin này không có sẵn cho bệnh nhân này."
   ]
  },
  {
   "cell_type": "code",
   "execution_count": 6,
   "id": "0dfe133c",
   "metadata": {},
   "outputs": [
    {
     "name": "stdout",
     "output_type": "stream",
     "text": [
      "<class 'pandas.core.frame.DataFrame'>\n",
      "RangeIndex: 5110 entries, 0 to 5109\n",
      "Data columns (total 12 columns):\n",
      " #   Column             Non-Null Count  Dtype  \n",
      "---  ------             --------------  -----  \n",
      " 0   id                 5110 non-null   int64  \n",
      " 1   gender             5110 non-null   object \n",
      " 2   age                5110 non-null   float64\n",
      " 3   hypertension       5110 non-null   int64  \n",
      " 4   heart_disease      5110 non-null   int64  \n",
      " 5   ever_married       5110 non-null   object \n",
      " 6   work_type          5110 non-null   object \n",
      " 7   Residence_type     5110 non-null   object \n",
      " 8   avg_glucose_level  5110 non-null   float64\n",
      " 9   bmi                4909 non-null   float64\n",
      " 10  smoking_status     5110 non-null   object \n",
      " 11  stroke             5110 non-null   int64  \n",
      "dtypes: float64(3), int64(4), object(5)\n",
      "memory usage: 479.2+ KB\n"
     ]
    }
   ],
   "source": [
    "df.info()"
   ]
  },
  {
   "cell_type": "code",
   "execution_count": 7,
   "id": "e0e89e6c",
   "metadata": {},
   "outputs": [
    {
     "data": {
      "text/html": [
       "<div>\n",
       "<style scoped>\n",
       "    .dataframe tbody tr th:only-of-type {\n",
       "        vertical-align: middle;\n",
       "    }\n",
       "\n",
       "    .dataframe tbody tr th {\n",
       "        vertical-align: top;\n",
       "    }\n",
       "\n",
       "    .dataframe thead th {\n",
       "        text-align: right;\n",
       "    }\n",
       "</style>\n",
       "<table border=\"1\" class=\"dataframe\">\n",
       "  <thead>\n",
       "    <tr style=\"text-align: right;\">\n",
       "      <th></th>\n",
       "      <th>count</th>\n",
       "      <th>mean</th>\n",
       "      <th>std</th>\n",
       "      <th>min</th>\n",
       "      <th>25%</th>\n",
       "      <th>50%</th>\n",
       "      <th>75%</th>\n",
       "      <th>max</th>\n",
       "    </tr>\n",
       "  </thead>\n",
       "  <tbody>\n",
       "    <tr>\n",
       "      <th>id</th>\n",
       "      <td>5110.0</td>\n",
       "      <td>36517.829354</td>\n",
       "      <td>21161.721625</td>\n",
       "      <td>67.00</td>\n",
       "      <td>17741.250</td>\n",
       "      <td>36932.000</td>\n",
       "      <td>54682.00</td>\n",
       "      <td>72940.00</td>\n",
       "    </tr>\n",
       "    <tr>\n",
       "      <th>age</th>\n",
       "      <td>5110.0</td>\n",
       "      <td>43.226614</td>\n",
       "      <td>22.612647</td>\n",
       "      <td>0.08</td>\n",
       "      <td>25.000</td>\n",
       "      <td>45.000</td>\n",
       "      <td>61.00</td>\n",
       "      <td>82.00</td>\n",
       "    </tr>\n",
       "    <tr>\n",
       "      <th>hypertension</th>\n",
       "      <td>5110.0</td>\n",
       "      <td>0.097456</td>\n",
       "      <td>0.296607</td>\n",
       "      <td>0.00</td>\n",
       "      <td>0.000</td>\n",
       "      <td>0.000</td>\n",
       "      <td>0.00</td>\n",
       "      <td>1.00</td>\n",
       "    </tr>\n",
       "    <tr>\n",
       "      <th>heart_disease</th>\n",
       "      <td>5110.0</td>\n",
       "      <td>0.054012</td>\n",
       "      <td>0.226063</td>\n",
       "      <td>0.00</td>\n",
       "      <td>0.000</td>\n",
       "      <td>0.000</td>\n",
       "      <td>0.00</td>\n",
       "      <td>1.00</td>\n",
       "    </tr>\n",
       "    <tr>\n",
       "      <th>avg_glucose_level</th>\n",
       "      <td>5110.0</td>\n",
       "      <td>106.147677</td>\n",
       "      <td>45.283560</td>\n",
       "      <td>55.12</td>\n",
       "      <td>77.245</td>\n",
       "      <td>91.885</td>\n",
       "      <td>114.09</td>\n",
       "      <td>271.74</td>\n",
       "    </tr>\n",
       "    <tr>\n",
       "      <th>bmi</th>\n",
       "      <td>4909.0</td>\n",
       "      <td>28.893237</td>\n",
       "      <td>7.854067</td>\n",
       "      <td>10.30</td>\n",
       "      <td>23.500</td>\n",
       "      <td>28.100</td>\n",
       "      <td>33.10</td>\n",
       "      <td>97.60</td>\n",
       "    </tr>\n",
       "    <tr>\n",
       "      <th>stroke</th>\n",
       "      <td>5110.0</td>\n",
       "      <td>0.048728</td>\n",
       "      <td>0.215320</td>\n",
       "      <td>0.00</td>\n",
       "      <td>0.000</td>\n",
       "      <td>0.000</td>\n",
       "      <td>0.00</td>\n",
       "      <td>1.00</td>\n",
       "    </tr>\n",
       "  </tbody>\n",
       "</table>\n",
       "</div>"
      ],
      "text/plain": [
       "                    count          mean           std    min        25%  \\\n",
       "id                 5110.0  36517.829354  21161.721625  67.00  17741.250   \n",
       "age                5110.0     43.226614     22.612647   0.08     25.000   \n",
       "hypertension       5110.0      0.097456      0.296607   0.00      0.000   \n",
       "heart_disease      5110.0      0.054012      0.226063   0.00      0.000   \n",
       "avg_glucose_level  5110.0    106.147677     45.283560  55.12     77.245   \n",
       "bmi                4909.0     28.893237      7.854067  10.30     23.500   \n",
       "stroke             5110.0      0.048728      0.215320   0.00      0.000   \n",
       "\n",
       "                         50%       75%       max  \n",
       "id                 36932.000  54682.00  72940.00  \n",
       "age                   45.000     61.00     82.00  \n",
       "hypertension           0.000      0.00      1.00  \n",
       "heart_disease          0.000      0.00      1.00  \n",
       "avg_glucose_level     91.885    114.09    271.74  \n",
       "bmi                   28.100     33.10     97.60  \n",
       "stroke                 0.000      0.00      1.00  "
      ]
     },
     "execution_count": 7,
     "metadata": {},
     "output_type": "execute_result"
    }
   ],
   "source": [
    "df.describe().transpose()"
   ]
  },
  {
   "cell_type": "markdown",
   "id": "1d8807a2",
   "metadata": {},
   "source": [
    "## Data Preprocessing"
   ]
  },
  {
   "cell_type": "code",
   "execution_count": 8,
   "id": "08e3eac2",
   "metadata": {},
   "outputs": [
    {
     "data": {
      "text/plain": [
       "id                     0\n",
       "gender                 0\n",
       "age                    0\n",
       "hypertension           0\n",
       "heart_disease          0\n",
       "ever_married           0\n",
       "work_type              0\n",
       "Residence_type         0\n",
       "avg_glucose_level      0\n",
       "bmi                  201\n",
       "smoking_status         0\n",
       "stroke                 0\n",
       "dtype: int64"
      ]
     },
     "execution_count": 8,
     "metadata": {},
     "output_type": "execute_result"
    }
   ],
   "source": [
    "#Kiểm tra giá trị null\n",
    "df.isnull().sum()"
   ]
  },
  {
   "cell_type": "code",
   "execution_count": 9,
   "id": "82b5b809",
   "metadata": {},
   "outputs": [
    {
     "data": {
      "text/plain": [
       "id                   0\n",
       "gender               0\n",
       "age                  0\n",
       "hypertension         0\n",
       "heart_disease        0\n",
       "ever_married         0\n",
       "work_type            0\n",
       "Residence_type       0\n",
       "avg_glucose_level    0\n",
       "bmi                  0\n",
       "smoking_status       0\n",
       "stroke               0\n",
       "dtype: int64"
      ]
     },
     "execution_count": 9,
     "metadata": {},
     "output_type": "execute_result"
    }
   ],
   "source": [
    "#Loại bỏ giá trị null\n",
    "df.dropna(inplace=True)\n",
    "df.isnull().sum()"
   ]
  },
  {
   "cell_type": "code",
   "execution_count": 10,
   "id": "c3a71acf",
   "metadata": {},
   "outputs": [],
   "source": [
    "#Loại bỏ các biến 'Other' trong 'gender'\n",
    "df.drop(df[df['gender'] == \"Other\"].index , axis = 0 , inplace = True)\n",
    "#Đưa kiểu dữ liệu Age về int\n",
    "df['age'] = df['age'].astype('int64')"
   ]
  },
  {
   "cell_type": "code",
   "execution_count": 11,
   "id": "262eaecf",
   "metadata": {},
   "outputs": [
    {
     "name": "stderr",
     "output_type": "stream",
     "text": [
      "C:\\Users\\nguye\\AppData\\Local\\Temp\\ipykernel_42636\\3144165813.py:2: SettingWithCopyWarning: \n",
      "A value is trying to be set on a copy of a slice from a DataFrame\n",
      "\n",
      "See the caveats in the documentation: https://pandas.pydata.org/pandas-docs/stable/user_guide/indexing.html#returning-a-view-versus-a-copy\n",
      "  df['smoking_status'].iloc[df['smoking_status'] == 'formerly smoked'] = 'smokes'\n"
     ]
    }
   ],
   "source": [
    "# Thay thể các 'fomerly smoked' thành 'smokes'\n",
    "df['smoking_status'].iloc[df['smoking_status'] == 'formerly smoked'] = 'smokes'\n",
    "# Loại bỏ các giá trị 'Unknown'\n",
    "df.drop(df[df['smoking_status'] == 'Unknown'].index ,axis=0 , inplace=True)"
   ]
  },
  {
   "cell_type": "code",
   "execution_count": 12,
   "id": "dbd18f32",
   "metadata": {},
   "outputs": [],
   "source": [
    "#set lại index sau khi loại bỏ các dòng có giá trị null\n",
    "df.drop([\"id\"] ,axis=1, inplace=True)\n",
    "df.reset_index(drop=True,inplace=True)"
   ]
  },
  {
   "cell_type": "code",
   "execution_count": 13,
   "id": "4c439f21",
   "metadata": {},
   "outputs": [
    {
     "data": {
      "text/plain": [
       "(3425, 11)"
      ]
     },
     "execution_count": 13,
     "metadata": {},
     "output_type": "execute_result"
    }
   ],
   "source": [
    "df.shape"
   ]
  },
  {
   "cell_type": "code",
   "execution_count": 14,
   "id": "850414f2",
   "metadata": {},
   "outputs": [
    {
     "name": "stdout",
     "output_type": "stream",
     "text": [
      "<class 'pandas.core.frame.DataFrame'>\n",
      "RangeIndex: 3425 entries, 0 to 3424\n",
      "Data columns (total 11 columns):\n",
      " #   Column             Non-Null Count  Dtype  \n",
      "---  ------             --------------  -----  \n",
      " 0   gender             3425 non-null   object \n",
      " 1   age                3425 non-null   int64  \n",
      " 2   hypertension       3425 non-null   int64  \n",
      " 3   heart_disease      3425 non-null   int64  \n",
      " 4   ever_married       3425 non-null   object \n",
      " 5   work_type          3425 non-null   object \n",
      " 6   Residence_type     3425 non-null   object \n",
      " 7   avg_glucose_level  3425 non-null   float64\n",
      " 8   bmi                3425 non-null   float64\n",
      " 9   smoking_status     3425 non-null   object \n",
      " 10  stroke             3425 non-null   int64  \n",
      "dtypes: float64(2), int64(4), object(5)\n",
      "memory usage: 294.5+ KB\n"
     ]
    }
   ],
   "source": [
    "df.info()"
   ]
  },
  {
   "cell_type": "code",
   "execution_count": 15,
   "id": "320f1016",
   "metadata": {},
   "outputs": [
    {
     "data": {
      "text/plain": [
       "['gender',\n",
       " 'ever_married',\n",
       " 'work_type',\n",
       " 'Residence_type',\n",
       " 'smoking_status',\n",
       " 'stroke',\n",
       " 'hypertension',\n",
       " 'heart_disease']"
      ]
     },
     "execution_count": 15,
     "metadata": {},
     "output_type": "execute_result"
    }
   ],
   "source": [
    "categorical_cols=list(df.select_dtypes(include='O').columns) + [\"stroke\" , \"hypertension\" , \"heart_disease\"]\n",
    "categorical_cols"
   ]
  },
  {
   "cell_type": "code",
   "execution_count": 16,
   "id": "6b978ade",
   "metadata": {},
   "outputs": [],
   "source": [
    "df[categorical_cols] = df[categorical_cols].astype('object')\n",
    "categorical_cols.remove('stroke')"
   ]
  },
  {
   "cell_type": "code",
   "execution_count": 17,
   "id": "30bf8c63",
   "metadata": {},
   "outputs": [
    {
     "data": {
      "text/plain": [
       "Female    2086\n",
       "Male      1339\n",
       "Name: gender, dtype: int64"
      ]
     },
     "metadata": {},
     "output_type": "display_data"
    },
    {
     "name": "stdout",
     "output_type": "stream",
     "text": [
      "####################\n"
     ]
    },
    {
     "data": {
      "text/plain": [
       "Yes    2599\n",
       "No      826\n",
       "Name: ever_married, dtype: int64"
      ]
     },
     "metadata": {},
     "output_type": "display_data"
    },
    {
     "name": "stdout",
     "output_type": "stream",
     "text": [
      "####################\n"
     ]
    },
    {
     "data": {
      "text/plain": [
       "Private          2200\n",
       "Self-employed     629\n",
       "Govt_job          514\n",
       "children           68\n",
       "Never_worked       14\n",
       "Name: work_type, dtype: int64"
      ]
     },
     "metadata": {},
     "output_type": "display_data"
    },
    {
     "name": "stdout",
     "output_type": "stream",
     "text": [
      "####################\n"
     ]
    },
    {
     "data": {
      "text/plain": [
       "Urban    1745\n",
       "Rural    1680\n",
       "Name: Residence_type, dtype: int64"
      ]
     },
     "metadata": {},
     "output_type": "display_data"
    },
    {
     "name": "stdout",
     "output_type": "stream",
     "text": [
      "####################\n"
     ]
    },
    {
     "data": {
      "text/plain": [
       "never smoked    1852\n",
       "smokes          1573\n",
       "Name: smoking_status, dtype: int64"
      ]
     },
     "metadata": {},
     "output_type": "display_data"
    },
    {
     "name": "stdout",
     "output_type": "stream",
     "text": [
      "####################\n"
     ]
    },
    {
     "data": {
      "text/plain": [
       "0    3017\n",
       "1     408\n",
       "Name: hypertension, dtype: int64"
      ]
     },
     "metadata": {},
     "output_type": "display_data"
    },
    {
     "name": "stdout",
     "output_type": "stream",
     "text": [
      "####################\n"
     ]
    },
    {
     "data": {
      "text/plain": [
       "0    3219\n",
       "1     206\n",
       "Name: heart_disease, dtype: int64"
      ]
     },
     "metadata": {},
     "output_type": "display_data"
    },
    {
     "name": "stdout",
     "output_type": "stream",
     "text": [
      "####################\n"
     ]
    }
   ],
   "source": [
    "for i in categorical_cols:\n",
    "    display(df[i].value_counts())\n",
    "    print(\"#\"*20)"
   ]
  },
  {
   "cell_type": "code",
   "execution_count": 18,
   "id": "63d6d22a",
   "metadata": {},
   "outputs": [
    {
     "data": {
      "text/plain": [
       "0    3245\n",
       "1     180\n",
       "Name: stroke, dtype: int64"
      ]
     },
     "execution_count": 18,
     "metadata": {},
     "output_type": "execute_result"
    }
   ],
   "source": [
    "df['stroke'].value_counts() #imbalance"
   ]
  },
  {
   "cell_type": "code",
   "execution_count": 19,
   "id": "165784f1",
   "metadata": {},
   "outputs": [
    {
     "name": "stdout",
     "output_type": "stream",
     "text": [
      "Dữ liệu ban đầu của cột 'bmi':\n",
      "0    36.6\n",
      "1    32.5\n",
      "2    34.4\n",
      "3    24.0\n",
      "4    29.0\n",
      "Name: bmi, dtype: float64\n"
     ]
    }
   ],
   "source": [
    "print(\"Dữ liệu ban đầu của cột 'bmi':\")\n",
    "print(df['bmi'].head())"
   ]
  },
  {
   "cell_type": "code",
   "execution_count": 20,
   "id": "059909ab",
   "metadata": {},
   "outputs": [],
   "source": [
    "def categorize_bmi(bmi):\n",
    "    if bmi < 18.5:\n",
    "        return 'Underweight'\n",
    "    elif 18.5 <= bmi < 24.9:\n",
    "        return 'Normal weight'\n",
    "    elif 25 <= bmi < 29.9:\n",
    "        return 'Overweight'\n",
    "    else:\n",
    "        return 'Obesity'"
   ]
  },
  {
   "cell_type": "code",
   "execution_count": 21,
   "id": "db60d34d",
   "metadata": {},
   "outputs": [
    {
     "name": "stdout",
     "output_type": "stream",
     "text": [
      "Dữ liệu sau khi thay thế giá trị trong cột 'bmi':\n",
      "0          Obesity\n",
      "1          Obesity\n",
      "2          Obesity\n",
      "3    Normal weight\n",
      "4       Overweight\n",
      "Name: bmi, dtype: object\n"
     ]
    }
   ],
   "source": [
    "#Áp dụng hàm cho cột 'bmi' và thay thế giá trị ban đầu\n",
    "df['bmi'] = df['bmi'].apply(categorize_bmi)\n",
    "# Kiểm tra lại dữ liệu sau khi thay thế giá trị trong cột 'bmi'\n",
    "print(\"Dữ liệu sau khi thay thế giá trị trong cột 'bmi':\")\n",
    "print(df['bmi'].head())"
   ]
  },
  {
   "cell_type": "code",
   "execution_count": 22,
   "id": "ee121a16",
   "metadata": {},
   "outputs": [],
   "source": [
    "def categorize_glucose_level(glucose):\n",
    "    if glucose < 100:\n",
    "        return 'Normal'\n",
    "    elif 100 <= glucose < 126:\n",
    "        return 'Prediabetes'\n",
    "    else:\n",
    "        return 'Diabetes'"
   ]
  },
  {
   "cell_type": "code",
   "execution_count": 23,
   "id": "73cc46e0",
   "metadata": {},
   "outputs": [
    {
     "name": "stdout",
     "output_type": "stream",
     "text": [
      "Dữ liệu sau khi thay thế giá trị trong cột 'avg_glucose_level':\n",
      "0       Diabetes\n",
      "1    Prediabetes\n",
      "2       Diabetes\n",
      "3       Diabetes\n",
      "4       Diabetes\n",
      "Name: avg_glucose_level, dtype: object\n"
     ]
    }
   ],
   "source": [
    "#Áp dụng hàm cho cột 'avg_glucose_level' và thay thế giá trị ban đầu\n",
    "df['avg_glucose_level'] = df['avg_glucose_level'].apply(categorize_glucose_level)\n",
    "# Kiểm tra lại dữ liệu sau khi thay thế giá trị trong cột 'avg_glucose_level'\n",
    "print(\"Dữ liệu sau khi thay thế giá trị trong cột 'avg_glucose_level':\")\n",
    "print(df['avg_glucose_level'].head())"
   ]
  },
  {
   "cell_type": "code",
   "execution_count": 24,
   "id": "68b4e044",
   "metadata": {},
   "outputs": [
    {
     "data": {
      "text/html": [
       "<div>\n",
       "<style scoped>\n",
       "    .dataframe tbody tr th:only-of-type {\n",
       "        vertical-align: middle;\n",
       "    }\n",
       "\n",
       "    .dataframe tbody tr th {\n",
       "        vertical-align: top;\n",
       "    }\n",
       "\n",
       "    .dataframe thead th {\n",
       "        text-align: right;\n",
       "    }\n",
       "</style>\n",
       "<table border=\"1\" class=\"dataframe\">\n",
       "  <thead>\n",
       "    <tr style=\"text-align: right;\">\n",
       "      <th></th>\n",
       "      <th>gender</th>\n",
       "      <th>age</th>\n",
       "      <th>hypertension</th>\n",
       "      <th>heart_disease</th>\n",
       "      <th>ever_married</th>\n",
       "      <th>work_type</th>\n",
       "      <th>Residence_type</th>\n",
       "      <th>avg_glucose_level</th>\n",
       "      <th>bmi</th>\n",
       "      <th>smoking_status</th>\n",
       "      <th>stroke</th>\n",
       "    </tr>\n",
       "  </thead>\n",
       "  <tbody>\n",
       "    <tr>\n",
       "      <th>0</th>\n",
       "      <td>Male</td>\n",
       "      <td>67</td>\n",
       "      <td>0</td>\n",
       "      <td>1</td>\n",
       "      <td>Yes</td>\n",
       "      <td>Private</td>\n",
       "      <td>Urban</td>\n",
       "      <td>Diabetes</td>\n",
       "      <td>Obesity</td>\n",
       "      <td>smokes</td>\n",
       "      <td>1</td>\n",
       "    </tr>\n",
       "    <tr>\n",
       "      <th>1</th>\n",
       "      <td>Male</td>\n",
       "      <td>80</td>\n",
       "      <td>0</td>\n",
       "      <td>1</td>\n",
       "      <td>Yes</td>\n",
       "      <td>Private</td>\n",
       "      <td>Rural</td>\n",
       "      <td>Prediabetes</td>\n",
       "      <td>Obesity</td>\n",
       "      <td>never smoked</td>\n",
       "      <td>1</td>\n",
       "    </tr>\n",
       "    <tr>\n",
       "      <th>2</th>\n",
       "      <td>Female</td>\n",
       "      <td>49</td>\n",
       "      <td>0</td>\n",
       "      <td>0</td>\n",
       "      <td>Yes</td>\n",
       "      <td>Private</td>\n",
       "      <td>Urban</td>\n",
       "      <td>Diabetes</td>\n",
       "      <td>Obesity</td>\n",
       "      <td>smokes</td>\n",
       "      <td>1</td>\n",
       "    </tr>\n",
       "    <tr>\n",
       "      <th>3</th>\n",
       "      <td>Female</td>\n",
       "      <td>79</td>\n",
       "      <td>1</td>\n",
       "      <td>0</td>\n",
       "      <td>Yes</td>\n",
       "      <td>Self-employed</td>\n",
       "      <td>Rural</td>\n",
       "      <td>Diabetes</td>\n",
       "      <td>Normal weight</td>\n",
       "      <td>never smoked</td>\n",
       "      <td>1</td>\n",
       "    </tr>\n",
       "    <tr>\n",
       "      <th>4</th>\n",
       "      <td>Male</td>\n",
       "      <td>81</td>\n",
       "      <td>0</td>\n",
       "      <td>0</td>\n",
       "      <td>Yes</td>\n",
       "      <td>Private</td>\n",
       "      <td>Urban</td>\n",
       "      <td>Diabetes</td>\n",
       "      <td>Overweight</td>\n",
       "      <td>smokes</td>\n",
       "      <td>1</td>\n",
       "    </tr>\n",
       "    <tr>\n",
       "      <th>5</th>\n",
       "      <td>Male</td>\n",
       "      <td>74</td>\n",
       "      <td>1</td>\n",
       "      <td>1</td>\n",
       "      <td>Yes</td>\n",
       "      <td>Private</td>\n",
       "      <td>Rural</td>\n",
       "      <td>Normal</td>\n",
       "      <td>Overweight</td>\n",
       "      <td>never smoked</td>\n",
       "      <td>1</td>\n",
       "    </tr>\n",
       "    <tr>\n",
       "      <th>6</th>\n",
       "      <td>Female</td>\n",
       "      <td>69</td>\n",
       "      <td>0</td>\n",
       "      <td>0</td>\n",
       "      <td>No</td>\n",
       "      <td>Private</td>\n",
       "      <td>Urban</td>\n",
       "      <td>Normal</td>\n",
       "      <td>Normal weight</td>\n",
       "      <td>never smoked</td>\n",
       "      <td>1</td>\n",
       "    </tr>\n",
       "    <tr>\n",
       "      <th>7</th>\n",
       "      <td>Female</td>\n",
       "      <td>81</td>\n",
       "      <td>1</td>\n",
       "      <td>0</td>\n",
       "      <td>Yes</td>\n",
       "      <td>Private</td>\n",
       "      <td>Rural</td>\n",
       "      <td>Normal</td>\n",
       "      <td>Overweight</td>\n",
       "      <td>never smoked</td>\n",
       "      <td>1</td>\n",
       "    </tr>\n",
       "    <tr>\n",
       "      <th>8</th>\n",
       "      <td>Female</td>\n",
       "      <td>61</td>\n",
       "      <td>0</td>\n",
       "      <td>1</td>\n",
       "      <td>Yes</td>\n",
       "      <td>Govt_job</td>\n",
       "      <td>Rural</td>\n",
       "      <td>Prediabetes</td>\n",
       "      <td>Obesity</td>\n",
       "      <td>smokes</td>\n",
       "      <td>1</td>\n",
       "    </tr>\n",
       "    <tr>\n",
       "      <th>9</th>\n",
       "      <td>Female</td>\n",
       "      <td>54</td>\n",
       "      <td>0</td>\n",
       "      <td>0</td>\n",
       "      <td>Yes</td>\n",
       "      <td>Private</td>\n",
       "      <td>Urban</td>\n",
       "      <td>Prediabetes</td>\n",
       "      <td>Overweight</td>\n",
       "      <td>smokes</td>\n",
       "      <td>1</td>\n",
       "    </tr>\n",
       "  </tbody>\n",
       "</table>\n",
       "</div>"
      ],
      "text/plain": [
       "   gender  age hypertension heart_disease ever_married      work_type  \\\n",
       "0    Male   67            0             1          Yes        Private   \n",
       "1    Male   80            0             1          Yes        Private   \n",
       "2  Female   49            0             0          Yes        Private   \n",
       "3  Female   79            1             0          Yes  Self-employed   \n",
       "4    Male   81            0             0          Yes        Private   \n",
       "5    Male   74            1             1          Yes        Private   \n",
       "6  Female   69            0             0           No        Private   \n",
       "7  Female   81            1             0          Yes        Private   \n",
       "8  Female   61            0             1          Yes       Govt_job   \n",
       "9  Female   54            0             0          Yes        Private   \n",
       "\n",
       "  Residence_type avg_glucose_level            bmi smoking_status stroke  \n",
       "0          Urban          Diabetes        Obesity         smokes      1  \n",
       "1          Rural       Prediabetes        Obesity   never smoked      1  \n",
       "2          Urban          Diabetes        Obesity         smokes      1  \n",
       "3          Rural          Diabetes  Normal weight   never smoked      1  \n",
       "4          Urban          Diabetes     Overweight         smokes      1  \n",
       "5          Rural            Normal     Overweight   never smoked      1  \n",
       "6          Urban            Normal  Normal weight   never smoked      1  \n",
       "7          Rural            Normal     Overweight   never smoked      1  \n",
       "8          Rural       Prediabetes        Obesity         smokes      1  \n",
       "9          Urban       Prediabetes     Overweight         smokes      1  "
      ]
     },
     "execution_count": 24,
     "metadata": {},
     "output_type": "execute_result"
    }
   ],
   "source": [
    "df.head(10)"
   ]
  },
  {
   "cell_type": "code",
   "execution_count": 25,
   "id": "146da69f",
   "metadata": {},
   "outputs": [
    {
     "name": "stdout",
     "output_type": "stream",
     "text": [
      "<class 'pandas.core.frame.DataFrame'>\n",
      "RangeIndex: 3425 entries, 0 to 3424\n",
      "Data columns (total 11 columns):\n",
      " #   Column             Non-Null Count  Dtype \n",
      "---  ------             --------------  ----- \n",
      " 0   gender             3425 non-null   object\n",
      " 1   age                3425 non-null   int64 \n",
      " 2   hypertension       3425 non-null   object\n",
      " 3   heart_disease      3425 non-null   object\n",
      " 4   ever_married       3425 non-null   object\n",
      " 5   work_type          3425 non-null   object\n",
      " 6   Residence_type     3425 non-null   object\n",
      " 7   avg_glucose_level  3425 non-null   object\n",
      " 8   bmi                3425 non-null   object\n",
      " 9   smoking_status     3425 non-null   object\n",
      " 10  stroke             3425 non-null   object\n",
      "dtypes: int64(1), object(10)\n",
      "memory usage: 294.5+ KB\n"
     ]
    }
   ],
   "source": [
    "df.info()"
   ]
  },
  {
   "cell_type": "code",
   "execution_count": 26,
   "id": "7d1590cd",
   "metadata": {},
   "outputs": [
    {
     "data": {
      "text/plain": [
       "array([['Male', 67, 0, 1, 'Yes', 'Private', 'Urban', 'Diabetes',\n",
       "        'Obesity', 'smokes'],\n",
       "       ['Male', 80, 0, 1, 'Yes', 'Private', 'Rural', 'Prediabetes',\n",
       "        'Obesity', 'never smoked'],\n",
       "       ['Female', 49, 0, 0, 'Yes', 'Private', 'Urban', 'Diabetes',\n",
       "        'Obesity', 'smokes'],\n",
       "       ['Female', 79, 1, 0, 'Yes', 'Self-employed', 'Rural', 'Diabetes',\n",
       "        'Normal weight', 'never smoked'],\n",
       "       ['Male', 81, 0, 0, 'Yes', 'Private', 'Urban', 'Diabetes',\n",
       "        'Overweight', 'smokes']], dtype=object)"
      ]
     },
     "execution_count": 26,
     "metadata": {},
     "output_type": "execute_result"
    }
   ],
   "source": [
    "X=df[['gender', 'age', 'hypertension', 'heart_disease', 'ever_married', 'work_type', 'Residence_type' , 'avg_glucose_level', 'bmi', 'smoking_status']].values\n",
    "X[0:5]"
   ]
  },
  {
   "cell_type": "code",
   "execution_count": 27,
   "id": "6ad9fc6e",
   "metadata": {},
   "outputs": [
    {
     "name": "stdout",
     "output_type": "stream",
     "text": [
      "Unique values in 'gender': ['Male' 'Female']\n",
      "Unique values in 'ever_married': ['Yes' 'No']\n",
      "Unique values in 'work_type': ['Private' 'Self-employed' 'Govt_job' 'children' 'Never_worked']\n",
      "Unique values in 'Residence_type': ['Urban' 'Rural']\n",
      "Unique values in 'avg_glucose_level': ['Diabetes' 'Prediabetes' 'Normal']\n",
      "Unique values in 'bmi': ['Obesity' 'Normal weight' 'Overweight' 'Underweight']\n",
      "Unique values in 'smoking_status': ['smokes' 'never smoked']\n"
     ]
    }
   ],
   "source": [
    "# Kiểm tra các giá trị độc nhất trong các cột phân loại\n",
    "print(\"Unique values in 'gender':\", pd.unique(X[:, 0]))\n",
    "print(\"Unique values in 'ever_married':\", pd.unique(X[:, 4]))\n",
    "print(\"Unique values in 'work_type':\", pd.unique(X[:, 5]))\n",
    "print(\"Unique values in 'Residence_type':\", pd.unique(X[:, 6]))\n",
    "print(\"Unique values in 'avg_glucose_level':\", pd.unique(X[:, 7]))\n",
    "print(\"Unique values in 'bmi':\", pd.unique(X[:, 8]))\n",
    "print(\"Unique values in 'smoking_status':\", pd.unique(X[:, 9]))"
   ]
  },
  {
   "cell_type": "code",
   "execution_count": 28,
   "id": "42154756",
   "metadata": {},
   "outputs": [
    {
     "name": "stdout",
     "output_type": "stream",
     "text": [
      "[[1 67 0 1 1 2 1 0 1 1]\n",
      " [1 80 0 1 1 2 0 2 1 0]\n",
      " [0 49 0 0 1 2 1 0 1 1]\n",
      " [0 79 1 0 1 3 0 0 0 0]\n",
      " [1 81 0 0 1 2 1 0 2 1]\n",
      " [1 74 1 1 1 2 0 1 2 0]\n",
      " [0 69 0 0 0 2 1 1 0 0]\n",
      " [0 81 1 0 1 2 0 1 2 0]\n",
      " [0 61 0 1 1 0 0 2 1 1]\n",
      " [0 54 0 0 1 2 1 2 2 1]]\n"
     ]
    }
   ],
   "source": [
    "# Mã hóa các biến phân loại\n",
    "le_gender = preprocessing.LabelEncoder()\n",
    "le_gender.fit(['Male', 'Female'])\n",
    "X[:, 0] = le_gender.transform(X[:, 0])\n",
    "\n",
    "le_married = preprocessing.LabelEncoder()\n",
    "le_married.fit(['Yes', 'No'])\n",
    "X[:, 4] = le_married.transform(X[:, 4])\n",
    "\n",
    "le_work = preprocessing.LabelEncoder()\n",
    "le_work.fit(['children', 'Govt_job', 'Never_worked', 'Private', 'Self-employed'])\n",
    "X[:, 5] = le_work.transform(X[:, 5])\n",
    "\n",
    "le_residence = preprocessing.LabelEncoder()\n",
    "le_residence.fit(['Urban','Rural'])\n",
    "X[:, 6] = le_residence.transform(X[:, 6])\n",
    "\n",
    "le_gluco = preprocessing.LabelEncoder()\n",
    "le_gluco.fit(['Normal', 'Prediabetes', 'Diabetes'])\n",
    "X[:, 7] = le_gluco.transform(X[:, 7])\n",
    "\n",
    "le_bmi = preprocessing.LabelEncoder()\n",
    "le_bmi.fit(['Underweight', 'Normal weight', 'Overweight', 'Obesity'])\n",
    "X[:, 8] = le_bmi.transform(X[:, 8])\n",
    "\n",
    "le_smoking = preprocessing.LabelEncoder()\n",
    "le_smoking.fit(['never smoked', 'smokes'])\n",
    "X[:, 9] = le_smoking.transform(X[:, 9])\n",
    "\n",
    "# Kiểm tra lại dữ liệu sau khi mã hóa\n",
    "print(X[:10])\n",
    "\n"
   ]
  },
  {
   "cell_type": "code",
   "execution_count": 29,
   "id": "d3e757be",
   "metadata": {},
   "outputs": [
    {
     "name": "stdout",
     "output_type": "stream",
     "text": [
      "0    1\n",
      "1    1\n",
      "2    1\n",
      "3    1\n",
      "4    1\n",
      "Name: stroke, dtype: object\n"
     ]
    }
   ],
   "source": [
    "y = df[\"stroke\"]\n",
    "print(y[0:5])"
   ]
  },
  {
   "cell_type": "code",
   "execution_count": 30,
   "id": "11f8559f",
   "metadata": {},
   "outputs": [
    {
     "data": {
      "text/html": [
       "<div>\n",
       "<style scoped>\n",
       "    .dataframe tbody tr th:only-of-type {\n",
       "        vertical-align: middle;\n",
       "    }\n",
       "\n",
       "    .dataframe tbody tr th {\n",
       "        vertical-align: top;\n",
       "    }\n",
       "\n",
       "    .dataframe thead th {\n",
       "        text-align: right;\n",
       "    }\n",
       "</style>\n",
       "<table border=\"1\" class=\"dataframe\">\n",
       "  <thead>\n",
       "    <tr style=\"text-align: right;\">\n",
       "      <th></th>\n",
       "      <th>gender</th>\n",
       "      <th>age</th>\n",
       "      <th>hypertension</th>\n",
       "      <th>heart_disease</th>\n",
       "      <th>ever_married</th>\n",
       "      <th>work_type</th>\n",
       "      <th>Residence_type</th>\n",
       "      <th>avg_glucose_level</th>\n",
       "      <th>bmi</th>\n",
       "      <th>smoking_status</th>\n",
       "      <th>stroke</th>\n",
       "    </tr>\n",
       "  </thead>\n",
       "  <tbody>\n",
       "    <tr>\n",
       "      <th>0</th>\n",
       "      <td>1</td>\n",
       "      <td>67</td>\n",
       "      <td>0</td>\n",
       "      <td>1</td>\n",
       "      <td>1</td>\n",
       "      <td>2</td>\n",
       "      <td>1</td>\n",
       "      <td>0</td>\n",
       "      <td>1</td>\n",
       "      <td>1</td>\n",
       "      <td>1</td>\n",
       "    </tr>\n",
       "    <tr>\n",
       "      <th>1</th>\n",
       "      <td>1</td>\n",
       "      <td>80</td>\n",
       "      <td>0</td>\n",
       "      <td>1</td>\n",
       "      <td>1</td>\n",
       "      <td>2</td>\n",
       "      <td>0</td>\n",
       "      <td>2</td>\n",
       "      <td>1</td>\n",
       "      <td>0</td>\n",
       "      <td>1</td>\n",
       "    </tr>\n",
       "    <tr>\n",
       "      <th>2</th>\n",
       "      <td>0</td>\n",
       "      <td>49</td>\n",
       "      <td>0</td>\n",
       "      <td>0</td>\n",
       "      <td>1</td>\n",
       "      <td>2</td>\n",
       "      <td>1</td>\n",
       "      <td>0</td>\n",
       "      <td>1</td>\n",
       "      <td>1</td>\n",
       "      <td>1</td>\n",
       "    </tr>\n",
       "    <tr>\n",
       "      <th>3</th>\n",
       "      <td>0</td>\n",
       "      <td>79</td>\n",
       "      <td>1</td>\n",
       "      <td>0</td>\n",
       "      <td>1</td>\n",
       "      <td>3</td>\n",
       "      <td>0</td>\n",
       "      <td>0</td>\n",
       "      <td>0</td>\n",
       "      <td>0</td>\n",
       "      <td>1</td>\n",
       "    </tr>\n",
       "    <tr>\n",
       "      <th>4</th>\n",
       "      <td>1</td>\n",
       "      <td>81</td>\n",
       "      <td>0</td>\n",
       "      <td>0</td>\n",
       "      <td>1</td>\n",
       "      <td>2</td>\n",
       "      <td>1</td>\n",
       "      <td>0</td>\n",
       "      <td>2</td>\n",
       "      <td>1</td>\n",
       "      <td>1</td>\n",
       "    </tr>\n",
       "  </tbody>\n",
       "</table>\n",
       "</div>"
      ],
      "text/plain": [
       "   gender  age hypertension heart_disease  ever_married  work_type  \\\n",
       "0       1   67            0             1             1          2   \n",
       "1       1   80            0             1             1          2   \n",
       "2       0   49            0             0             1          2   \n",
       "3       0   79            1             0             1          3   \n",
       "4       1   81            0             0             1          2   \n",
       "\n",
       "   Residence_type  avg_glucose_level  bmi  smoking_status stroke  \n",
       "0               1                  0    1               1      1  \n",
       "1               0                  2    1               0      1  \n",
       "2               1                  0    1               1      1  \n",
       "3               0                  0    0               0      1  \n",
       "4               1                  0    2               1      1  "
      ]
     },
     "execution_count": 30,
     "metadata": {},
     "output_type": "execute_result"
    }
   ],
   "source": [
    "#Thay thế các biến phân loại đã mã hóa vào data\n",
    "df['gender'] = le_gender.transform(df['gender'])\n",
    "df['ever_married'] = le_married.transform(df['ever_married'])\n",
    "df['work_type'] = le_work.transform(df['work_type'])\n",
    "df['Residence_type'] = le_residence.transform(df['Residence_type'])\n",
    "df['avg_glucose_level'] = le_gluco.transform(df['avg_glucose_level'])\n",
    "df['bmi'] = le_bmi.transform(df['bmi'])\n",
    "df['smoking_status'] = le_smoking.transform(df['smoking_status'])\n",
    "\n",
    "# Kiểm tra lại dữ liệu sau khi mã hóa\n",
    "df.head()"
   ]
  },
  {
   "cell_type": "markdown",
   "id": "c7ef1163",
   "metadata": {},
   "source": [
    "## EDA"
   ]
  },
  {
   "cell_type": "markdown",
   "id": "fb9544ab",
   "metadata": {},
   "source": [
    "    gender:\n",
    "*  Male -> 0\n",
    "*  Female -> 1\n",
    "\n",
    "    ever_married:\n",
    "   \n",
    "*  Yes -> 1\n",
    "*  No -> 0\n",
    "\n",
    "    work_type:\n",
    "\n",
    "*  children -> 0\n",
    "*  Govt_job -> 1\n",
    "*  Never_worked -> 2\n",
    "*  Private -> 3\n",
    "*  Self-employed -> 4\n",
    "\n",
    "    Residence_type:\n",
    "*   Urban -> 0\n",
    "*   Rural ->1\n",
    "\n",
    "    avg_glucose_level:\n",
    "\n",
    "*  Normal -> 1\n",
    "*  Prediabetes -> 2\n",
    "*  Diabetes -> 0\n",
    "\n",
    "    bmi:\n",
    "\n",
    "*  Underweight -> 3\n",
    "*  Normal weight -> 1\n",
    "*  Overweight -> 2\n",
    "*  Obesity -> 0\n",
    "\n",
    "    smoking_status:\n",
    "\n",
    "*  never smoked -> 0\n",
    "*  smokes -> 1"
   ]
  },
  {
   "cell_type": "code",
   "execution_count": 31,
   "id": "9a15c6dd",
   "metadata": {},
   "outputs": [
    {
     "data": {
      "image/png": "[encoded data removed]",
      "text/plain": [
       "<Figure size 640x480 with 1 Axes>"
      ]
     },
     "metadata": {},
     "output_type": "display_data"
    }
   ],
   "source": [
    "df['stroke'].value_counts().plot.bar(color=['salmon', 'lightblue']);\n",
    "plt.xlabel('0: No Stroke, 1: Stroke')\n",
    "plt.ylabel('Count');"
   ]
  },
  {
   "cell_type": "code",
   "execution_count": 32,
   "id": "bd1dbfd8",
   "metadata": {},
   "outputs": [
    {
     "data": {
      "text/plain": [
       "0    2086\n",
       "1    1339\n",
       "Name: gender, dtype: int64"
      ]
     },
     "execution_count": 32,
     "metadata": {},
     "output_type": "execute_result"
    }
   ],
   "source": [
    "df['gender'].value_counts()"
   ]
  },
  {
   "cell_type": "code",
   "execution_count": 33,
   "id": "bce238db",
   "metadata": {},
   "outputs": [
    {
     "data": {
      "text/html": [
       "<div>\n",
       "<style scoped>\n",
       "    .dataframe tbody tr th:only-of-type {\n",
       "        vertical-align: middle;\n",
       "    }\n",
       "\n",
       "    .dataframe tbody tr th {\n",
       "        vertical-align: top;\n",
       "    }\n",
       "\n",
       "    .dataframe thead th {\n",
       "        text-align: right;\n",
       "    }\n",
       "</style>\n",
       "<table border=\"1\" class=\"dataframe\">\n",
       "  <thead>\n",
       "    <tr style=\"text-align: right;\">\n",
       "      <th>stroke</th>\n",
       "      <th>0</th>\n",
       "      <th>1</th>\n",
       "    </tr>\n",
       "    <tr>\n",
       "      <th>gender</th>\n",
       "      <th></th>\n",
       "      <th></th>\n",
       "    </tr>\n",
       "  </thead>\n",
       "  <tbody>\n",
       "    <tr>\n",
       "      <th>0</th>\n",
       "      <td>1981</td>\n",
       "      <td>105</td>\n",
       "    </tr>\n",
       "    <tr>\n",
       "      <th>1</th>\n",
       "      <td>1264</td>\n",
       "      <td>75</td>\n",
       "    </tr>\n",
       "  </tbody>\n",
       "</table>\n",
       "</div>"
      ],
      "text/plain": [
       "stroke     0    1\n",
       "gender           \n",
       "0       1981  105\n",
       "1       1264   75"
      ]
     },
     "execution_count": 33,
     "metadata": {},
     "output_type": "execute_result"
    }
   ],
   "source": [
    "pd.crosstab(df['gender'], df['stroke'])"
   ]
  },
  {
   "cell_type": "markdown",
   "id": "988da679",
   "metadata": {},
   "source": [
    "Nhóm nam giới:\n",
    "\n",
    "Tổng số nam giới: 1981 + 105 = 2086\n",
    "\n",
    "Tỷ lệ nam giới bị đột quỵ: (105 / 2086) * 100 ≈ 5.03%\n",
    "\n",
    "Nhóm nữ giới:\n",
    "\n",
    "Tổng số nữ giới: 1264 + 75 = 1339\n",
    "\n",
    "Tỷ lệ nữ giới bị đột quỵ: (75 / 1339) * 100 ≈ 5.60%\n",
    "\n",
    "Kết luận:\n",
    "\n",
    "Nhóm nam giới: Trong số nam giới, khoảng 5.03% bị đột quỵ.\n",
    "\n",
    "Nhóm nữ giới: Trong số nữ giới, khoảng 5.60% bị đột quỵ."
   ]
  },
  {
   "cell_type": "code",
   "execution_count": 34,
   "id": "ab38f1cc",
   "metadata": {},
   "outputs": [
    {
     "data": {
      "image/png": "[encoded data removed]",
      "text/plain": [
       "<Figure size 640x480 with 1 Axes>"
      ]
     },
     "metadata": {},
     "output_type": "display_data"
    },
    {
     "data": {
      "image/png": "[encoded data removed]",
      "text/plain": [
       "<Figure size 640x480 with 1 Axes>"
      ]
     },
     "metadata": {},
     "output_type": "display_data"
    }
   ],
   "source": [
    "# Tạo bảng chéo giữa giới tính và đột quỵ\n",
    "gender_stroke_crosstab = pd.crosstab(df['gender'], df['stroke'])\n",
    "\n",
    "# Vẽ biểu đồ thanh số lượng\n",
    "gender_stroke_crosstab.plot(kind='bar', stacked=True)\n",
    "plt.title('Stroke by Gender')\n",
    "plt.xlabel('Gender (0: Male, 1: Female)')\n",
    "plt.ylabel('Count')\n",
    "plt.legend(['No Stroke', 'Stroke'])\n",
    "plt.xticks(rotation=0)\n",
    "plt.show()\n",
    "\n",
    "# Tính tỷ lệ phần trăm bệnh nhân bị đột quỵ\n",
    "stroke_rate = gender_stroke_crosstab.div(gender_stroke_crosstab.sum(axis=1), axis=0) * 100\n",
    "\n",
    "# Vẽ biểu đồ thanh tỷ lệ phần trăm\n",
    "stroke_rate.plot(kind='bar', stacked=True, color=['blue', 'red'])\n",
    "plt.title('Stroke Rate by Gender')\n",
    "plt.xlabel('Gender (0: Male, 1: Female)')\n",
    "plt.ylabel('Percentage (%)')\n",
    "plt.legend(['No Stroke', 'Stroke'])\n",
    "plt.xticks(rotation=0)\n",
    "plt.ylim(0, 100)  # Giới hạn trục y từ 0 đến 100\n",
    "\n",
    "# Hiển thị giá trị trên các cột\n",
    "for index, value in enumerate(stroke_rate[1]):\n",
    "    plt.text(index, value + 1, f'{value:.2f}%', ha='center')\n",
    "plt.show()\n"
   ]
  },
  {
   "cell_type": "code",
   "execution_count": 35,
   "id": "166351ce",
   "metadata": {},
   "outputs": [
    {
     "data": {
      "image/png": "[encoded data removed]",
      "text/plain": [
       "<Figure size 640x480 with 1 Axes>"
      ]
     },
     "metadata": {},
     "output_type": "display_data"
    }
   ],
   "source": [
    "sns.histplot(data=df, x=df['age'], bins=30);"
   ]
  },
  {
   "cell_type": "code",
   "execution_count": 45,
   "id": "211451a0",
   "metadata": {},
   "outputs": [
    {
     "data": {
      "text/html": [
       "<div>\n",
       "<style scoped>\n",
       "    .dataframe tbody tr th:only-of-type {\n",
       "        vertical-align: middle;\n",
       "    }\n",
       "\n",
       "    .dataframe tbody tr th {\n",
       "        vertical-align: top;\n",
       "    }\n",
       "\n",
       "    .dataframe thead th {\n",
       "        text-align: right;\n",
       "    }\n",
       "</style>\n",
       "<table border=\"1\" class=\"dataframe\">\n",
       "  <thead>\n",
       "    <tr style=\"text-align: right;\">\n",
       "      <th>stroke</th>\n",
       "      <th>0</th>\n",
       "      <th>1</th>\n",
       "    </tr>\n",
       "    <tr>\n",
       "      <th>bmi</th>\n",
       "      <th></th>\n",
       "      <th></th>\n",
       "    </tr>\n",
       "  </thead>\n",
       "  <tbody>\n",
       "    <tr>\n",
       "      <th>0</th>\n",
       "      <td>698</td>\n",
       "      <td>29</td>\n",
       "    </tr>\n",
       "    <tr>\n",
       "      <th>1</th>\n",
       "      <td>1488</td>\n",
       "      <td>89</td>\n",
       "    </tr>\n",
       "    <tr>\n",
       "      <th>2</th>\n",
       "      <td>1011</td>\n",
       "      <td>61</td>\n",
       "    </tr>\n",
       "    <tr>\n",
       "      <th>3</th>\n",
       "      <td>48</td>\n",
       "      <td>1</td>\n",
       "    </tr>\n",
       "  </tbody>\n",
       "</table>\n",
       "</div>"
      ],
      "text/plain": [
       "stroke     0   1\n",
       "bmi             \n",
       "0        698  29\n",
       "1       1488  89\n",
       "2       1011  61\n",
       "3         48   1"
      ]
     },
     "execution_count": 45,
     "metadata": {},
     "output_type": "execute_result"
    }
   ],
   "source": [
    "pd.crosstab(df['bmi'], df['stroke'])"
   ]
  },
  {
   "cell_type": "markdown",
   "id": "141315f3",
   "metadata": {},
   "source": [
    "Obesity (0): Có 698 người không bị đột quỵ và 29 người bị đột quỵ.\n",
    "\n",
    "Normal weight (1): Có 1488 người không bị đột quỵ và 89 người bị đột quỵ.\n",
    "\n",
    "Overweight (2): Có 1011 người không bị đột quỵ và 61 người bị đột quỵ.\n",
    "\n",
    "Underweight (3): Có 48 người không bị đột quỵ và 1 người bị đột quỵ."
   ]
  },
  {
   "cell_type": "code",
   "execution_count": 50,
   "id": "4ca95297",
   "metadata": {},
   "outputs": [
    {
     "data": {
      "image/png": "[encoded data removed]",
      "text/plain": [
       "<Figure size 640x480 with 1 Axes>"
      ]
     },
     "metadata": {},
     "output_type": "display_data"
    }
   ],
   "source": [
    "# Dữ liệu từ bảng chéo\n",
    "bmi_stroke_crosstab = pd.crosstab(df['bmi'], df['stroke'])\n",
    "\n",
    "# Tạo DataFrame từ dữ liệu\n",
    "df_bmi_stroke = bmi_stroke_crosstab.reset_index()\n",
    "\n",
    "# Vị trí của các thanh\n",
    "x = np.arange(len(df_bmi_stroke))\n",
    "\n",
    "# Độ rộng của mỗi thanh\n",
    "width = 0.35\n",
    "\n",
    "# Vẽ biểu đồ\n",
    "fig, ax = plt.subplots()\n",
    "bars1 = ax.bar(x - width/2, df_bmi_stroke[0], width, label='No Stroke', color='#66c2a5')\n",
    "bars2 = ax.bar(x + width/2, df_bmi_stroke[1], width, label='Stroke', color='#fc8d62')\n",
    "\n",
    "# Thêm các nhãn và tiêu đề\n",
    "ax.set_xlabel('BMI Category')\n",
    "ax.set_ylabel('Count')\n",
    "ax.set_title('Stroke by BMI')\n",
    "ax.set_xticks(x)\n",
    "ax.set_xticklabels(['Obesity', 'Normal weight', 'Overweight', 'Underweight'])\n",
    "ax.legend()\n",
    "\n",
    "plt.xticks(rotation=0)\n",
    "plt.show()\n"
   ]
  },
  {
   "cell_type": "markdown",
   "id": "16300dd7",
   "metadata": {},
   "source": [
    "Từ biểu đồ này, ta có thể thấy rằng nhóm người có cân nặng bình thường (Normal weight) có số lượng người bị đột quỵ cao nhất, tiếp theo là nhóm thừa cân (Overweight).\n",
    "\n",
    "Nhóm béo phì (Obesity) có số người bị đột quỵ thấp nhất.\n",
    "\n",
    "Do có số lượng người không bị đột quỵ khá cao. Điều này có thể gợi ý rằng cân nặng bình thường không đảm bảo hoàn toàn cho việc tránh nguy cơ đột quỵ, và cần phải xem xét các yếu tố khác nhau."
   ]
  },
  {
   "cell_type": "code",
   "execution_count": 43,
   "id": "d3bc7e7b",
   "metadata": {},
   "outputs": [
    {
     "data": {
      "text/html": [
       "<div>\n",
       "<style scoped>\n",
       "    .dataframe tbody tr th:only-of-type {\n",
       "        vertical-align: middle;\n",
       "    }\n",
       "\n",
       "    .dataframe tbody tr th {\n",
       "        vertical-align: top;\n",
       "    }\n",
       "\n",
       "    .dataframe thead th {\n",
       "        text-align: right;\n",
       "    }\n",
       "</style>\n",
       "<table border=\"1\" class=\"dataframe\">\n",
       "  <thead>\n",
       "    <tr style=\"text-align: right;\">\n",
       "      <th></th>\n",
       "      <th>stroke</th>\n",
       "      <th>0</th>\n",
       "      <th>1</th>\n",
       "    </tr>\n",
       "    <tr>\n",
       "      <th>age</th>\n",
       "      <th>hypertension</th>\n",
       "      <th></th>\n",
       "      <th></th>\n",
       "    </tr>\n",
       "  </thead>\n",
       "  <tbody>\n",
       "    <tr>\n",
       "      <th>10</th>\n",
       "      <th>0</th>\n",
       "      <td>9</td>\n",
       "      <td>0</td>\n",
       "    </tr>\n",
       "    <tr>\n",
       "      <th>11</th>\n",
       "      <th>0</th>\n",
       "      <td>12</td>\n",
       "      <td>0</td>\n",
       "    </tr>\n",
       "    <tr>\n",
       "      <th>12</th>\n",
       "      <th>0</th>\n",
       "      <td>19</td>\n",
       "      <td>0</td>\n",
       "    </tr>\n",
       "    <tr>\n",
       "      <th>13</th>\n",
       "      <th>0</th>\n",
       "      <td>19</td>\n",
       "      <td>0</td>\n",
       "    </tr>\n",
       "    <tr>\n",
       "      <th>14</th>\n",
       "      <th>0</th>\n",
       "      <td>24</td>\n",
       "      <td>0</td>\n",
       "    </tr>\n",
       "    <tr>\n",
       "      <th>...</th>\n",
       "      <th>...</th>\n",
       "      <td>...</td>\n",
       "      <td>...</td>\n",
       "    </tr>\n",
       "    <tr>\n",
       "      <th>80</th>\n",
       "      <th>1</th>\n",
       "      <td>10</td>\n",
       "      <td>6</td>\n",
       "    </tr>\n",
       "    <tr>\n",
       "      <th rowspan=\"2\" valign=\"top\">81</th>\n",
       "      <th>0</th>\n",
       "      <td>22</td>\n",
       "      <td>9</td>\n",
       "    </tr>\n",
       "    <tr>\n",
       "      <th>1</th>\n",
       "      <td>13</td>\n",
       "      <td>3</td>\n",
       "    </tr>\n",
       "    <tr>\n",
       "      <th rowspan=\"2\" valign=\"top\">82</th>\n",
       "      <th>0</th>\n",
       "      <td>30</td>\n",
       "      <td>5</td>\n",
       "    </tr>\n",
       "    <tr>\n",
       "      <th>1</th>\n",
       "      <td>8</td>\n",
       "      <td>3</td>\n",
       "    </tr>\n",
       "  </tbody>\n",
       "</table>\n",
       "<p>129 rows × 2 columns</p>\n",
       "</div>"
      ],
      "text/plain": [
       "stroke             0  1\n",
       "age hypertension       \n",
       "10  0              9  0\n",
       "11  0             12  0\n",
       "12  0             19  0\n",
       "13  0             19  0\n",
       "14  0             24  0\n",
       "...               .. ..\n",
       "80  1             10  6\n",
       "81  0             22  9\n",
       "    1             13  3\n",
       "82  0             30  5\n",
       "    1              8  3\n",
       "\n",
       "[129 rows x 2 columns]"
      ]
     },
     "execution_count": 43,
     "metadata": {},
     "output_type": "execute_result"
    }
   ],
   "source": [
    "pd.crosstab([df['age'], df['hypertension']], df['stroke'])"
   ]
  },
  {
   "cell_type": "code",
   "execution_count": 36,
   "id": "3a05b335",
   "metadata": {},
   "outputs": [
    {
     "data": {
      "image/png": "[encoded data removed]",
      "text/plain": [
       "<Figure size 1200x800 with 1 Axes>"
      ]
     },
     "metadata": {},
     "output_type": "display_data"
    }
   ],
   "source": [
    "# Tạo ma trận giao chéo giữa 'age', 'hypertension', và 'stroke'\n",
    "age_hypertension_stroke_crosstab = pd.crosstab([df['age'], df['hypertension']], df['stroke'])\n",
    "\n",
    "# Tính tỷ lệ stroke cho mỗi nhóm (age, hypertension)\n",
    "age_hypertension_stroke_rate = age_hypertension_stroke_crosstab[1] / age_hypertension_stroke_crosstab.sum(axis=1)\n",
    "\n",
    "# Chuyển tỷ lệ stroke thành data\n",
    "age_hypertension_stroke_rate_df = age_hypertension_stroke_rate.reset_index()\n",
    "age_hypertension_stroke_rate_df.columns = ['Age', 'Hypertension', 'Stroke_Rate']\n",
    "\n",
    "# Vẽ scatter plot\n",
    "plt.figure(figsize=(12, 8))\n",
    "sns.scatterplot(x='Age', y='Stroke_Rate', hue='Hypertension', data=age_hypertension_stroke_rate_df, palette='coolwarm', s=100, alpha=0.7)\n",
    "\n",
    "plt.title('Tỷ lệ Stroke Theo Độ Tuổi và Tăng Huyết Áp')\n",
    "plt.xlabel('Độ Tuổi')\n",
    "plt.ylabel('Tỷ Lệ Đột Qụy (%)')\n",
    "plt.legend(title='Tăng Huyết Áp (0: Không, 1: Có)')\n",
    "plt.grid(True)\n",
    "plt.show()"
   ]
  },
  {
   "cell_type": "code",
   "execution_count": 44,
   "id": "047d1658",
   "metadata": {},
   "outputs": [
    {
     "data": {
      "text/html": [
       "<div>\n",
       "<style scoped>\n",
       "    .dataframe tbody tr th:only-of-type {\n",
       "        vertical-align: middle;\n",
       "    }\n",
       "\n",
       "    .dataframe tbody tr th {\n",
       "        vertical-align: top;\n",
       "    }\n",
       "\n",
       "    .dataframe thead th {\n",
       "        text-align: right;\n",
       "    }\n",
       "</style>\n",
       "<table border=\"1\" class=\"dataframe\">\n",
       "  <thead>\n",
       "    <tr style=\"text-align: right;\">\n",
       "      <th></th>\n",
       "      <th>stroke</th>\n",
       "      <th>0</th>\n",
       "      <th>1</th>\n",
       "    </tr>\n",
       "    <tr>\n",
       "      <th>age</th>\n",
       "      <th>avg_glucose_level</th>\n",
       "      <th></th>\n",
       "      <th></th>\n",
       "    </tr>\n",
       "  </thead>\n",
       "  <tbody>\n",
       "    <tr>\n",
       "      <th rowspan=\"2\" valign=\"top\">10</th>\n",
       "      <th>1</th>\n",
       "      <td>8</td>\n",
       "      <td>0</td>\n",
       "    </tr>\n",
       "    <tr>\n",
       "      <th>2</th>\n",
       "      <td>1</td>\n",
       "      <td>0</td>\n",
       "    </tr>\n",
       "    <tr>\n",
       "      <th rowspan=\"3\" valign=\"top\">11</th>\n",
       "      <th>0</th>\n",
       "      <td>1</td>\n",
       "      <td>0</td>\n",
       "    </tr>\n",
       "    <tr>\n",
       "      <th>1</th>\n",
       "      <td>9</td>\n",
       "      <td>0</td>\n",
       "    </tr>\n",
       "    <tr>\n",
       "      <th>2</th>\n",
       "      <td>2</td>\n",
       "      <td>0</td>\n",
       "    </tr>\n",
       "    <tr>\n",
       "      <th>...</th>\n",
       "      <th>...</th>\n",
       "      <td>...</td>\n",
       "      <td>...</td>\n",
       "    </tr>\n",
       "    <tr>\n",
       "      <th rowspan=\"2\" valign=\"top\">81</th>\n",
       "      <th>1</th>\n",
       "      <td>18</td>\n",
       "      <td>9</td>\n",
       "    </tr>\n",
       "    <tr>\n",
       "      <th>2</th>\n",
       "      <td>5</td>\n",
       "      <td>0</td>\n",
       "    </tr>\n",
       "    <tr>\n",
       "      <th rowspan=\"3\" valign=\"top\">82</th>\n",
       "      <th>0</th>\n",
       "      <td>12</td>\n",
       "      <td>4</td>\n",
       "    </tr>\n",
       "    <tr>\n",
       "      <th>1</th>\n",
       "      <td>18</td>\n",
       "      <td>3</td>\n",
       "    </tr>\n",
       "    <tr>\n",
       "      <th>2</th>\n",
       "      <td>8</td>\n",
       "      <td>1</td>\n",
       "    </tr>\n",
       "  </tbody>\n",
       "</table>\n",
       "<p>218 rows × 2 columns</p>\n",
       "</div>"
      ],
      "text/plain": [
       "stroke                  0  1\n",
       "age avg_glucose_level       \n",
       "10  1                   8  0\n",
       "    2                   1  0\n",
       "11  0                   1  0\n",
       "    1                   9  0\n",
       "    2                   2  0\n",
       "...                    .. ..\n",
       "81  1                  18  9\n",
       "    2                   5  0\n",
       "82  0                  12  4\n",
       "    1                  18  3\n",
       "    2                   8  1\n",
       "\n",
       "[218 rows x 2 columns]"
      ]
     },
     "execution_count": 44,
     "metadata": {},
     "output_type": "execute_result"
    }
   ],
   "source": [
    "pd.crosstab([df['age'], df['avg_glucose_level']], df['stroke'])"
   ]
  },
  {
   "cell_type": "code",
   "execution_count": 37,
   "id": "f38141bf",
   "metadata": {},
   "outputs": [
    {
     "data": {
      "image/png": "[encoded data removed]",
      "text/plain": [
       "<Figure size 1200x800 with 1 Axes>"
      ]
     },
     "metadata": {},
     "output_type": "display_data"
    }
   ],
   "source": [
    "# Tạo ma trận giao chéo giữa 'age', 'avg_glucose_level', và 'stroke'\n",
    "age_glucose_stroke_crosstab = pd.crosstab([df['age'], df['avg_glucose_level']], df['stroke'])\n",
    "\n",
    "# Tính tỷ lệ stroke cho mỗi nhóm (age, avg_glucose_level)\n",
    "age_glucose_stroke_rate = age_glucose_stroke_crosstab[1] / age_glucose_stroke_crosstab.sum(axis=1)\n",
    "\n",
    "# Chuyển tỷ lệ stroke thành DataFrame\n",
    "age_glucose_stroke_rate_df = age_glucose_stroke_rate.reset_index()\n",
    "age_glucose_stroke_rate_df.columns = ['Age', 'Avg_Glucose_Level', 'Stroke_Rate']\n",
    "\n",
    "# Vẽ scatter plot\n",
    "plt.figure(figsize=(12, 8))\n",
    "sns.scatterplot(x='Age', y='Stroke_Rate', hue='Avg_Glucose_Level', data=age_glucose_stroke_rate_df, palette='coolwarm', s=100, alpha=0.7)\n",
    "\n",
    "plt.title('Tỷ lệ Đột Quỵ Theo Độ Tuổi và Mức Độ Glucose Trung Bình')\n",
    "plt.xlabel('Độ Tuổi')\n",
    "plt.ylabel('Tỷ Lệ Đột Quỵ (%)')\n",
    "plt.legend(title='Mức Độ Glucose Trung Bình')\n",
    "plt.grid(True)\n",
    "plt.show()\n"
   ]
  },
  {
   "cell_type": "code",
   "execution_count": 38,
   "id": "21357244",
   "metadata": {},
   "outputs": [
    {
     "data": {
      "text/plain": [
       "0    3219\n",
       "1     206\n",
       "Name: heart_disease, dtype: int64"
      ]
     },
     "execution_count": 38,
     "metadata": {},
     "output_type": "execute_result"
    }
   ],
   "source": [
    "df['heart_disease'].value_counts()"
   ]
  },
  {
   "cell_type": "code",
   "execution_count": 39,
   "id": "6cfc541b",
   "metadata": {},
   "outputs": [
    {
     "data": {
      "text/html": [
       "<div>\n",
       "<style scoped>\n",
       "    .dataframe tbody tr th:only-of-type {\n",
       "        vertical-align: middle;\n",
       "    }\n",
       "\n",
       "    .dataframe tbody tr th {\n",
       "        vertical-align: top;\n",
       "    }\n",
       "\n",
       "    .dataframe thead th {\n",
       "        text-align: right;\n",
       "    }\n",
       "</style>\n",
       "<table border=\"1\" class=\"dataframe\">\n",
       "  <thead>\n",
       "    <tr style=\"text-align: right;\">\n",
       "      <th>stroke</th>\n",
       "      <th>0</th>\n",
       "      <th>1</th>\n",
       "    </tr>\n",
       "    <tr>\n",
       "      <th>heart_disease</th>\n",
       "      <th></th>\n",
       "      <th></th>\n",
       "    </tr>\n",
       "  </thead>\n",
       "  <tbody>\n",
       "    <tr>\n",
       "      <th>0</th>\n",
       "      <td>3075</td>\n",
       "      <td>144</td>\n",
       "    </tr>\n",
       "    <tr>\n",
       "      <th>1</th>\n",
       "      <td>170</td>\n",
       "      <td>36</td>\n",
       "    </tr>\n",
       "  </tbody>\n",
       "</table>\n",
       "</div>"
      ],
      "text/plain": [
       "stroke            0    1\n",
       "heart_disease           \n",
       "0              3075  144\n",
       "1               170   36"
      ]
     },
     "execution_count": 39,
     "metadata": {},
     "output_type": "execute_result"
    }
   ],
   "source": [
    "pd.crosstab(df['heart_disease'], df['stroke'])"
   ]
  },
  {
   "cell_type": "markdown",
   "id": "a17e1983",
   "metadata": {},
   "source": [
    "Nhóm không bị bệnh tim:\n",
    "\n",
    "Tổng số bệnh nhân: 3075 + 144 = 3219\n",
    "Tỷ lệ bệnh nhân bị đột quỵ: (144 / 3219) * 100 ≈ 4.47%\n",
    "\n",
    "Nhóm bị bệnh tim:\n",
    "\n",
    "Tổng số bệnh nhân: 170 + 36 = 206\n",
    "Tỷ lệ bệnh nhân bị đột quỵ: (36 / 206) * 100 ≈ 17.48%\n",
    "\n",
    "Kết luận:\n",
    "\n",
    "Nhóm không bị bệnh tim: Trong số những người không bị bệnh tim, chỉ có khoảng 4.47% bị đột quỵ.\n",
    "\n",
    "Nhóm bị bệnh tim: Trong số những người bị bệnh tim, có khoảng 17.48% bị đột quỵ.\n",
    "\n",
    "Điều này cho thấy rằng bệnh nhân bị bệnh tim có nguy cơ bị đột quỵ cao hơn so với những người không bị bệnh tim."
   ]
  },
  {
   "cell_type": "code",
   "execution_count": 40,
   "id": "838a94f7",
   "metadata": {},
   "outputs": [
    {
     "data": {
      "image/png": "[encoded data removed]",
      "text/plain": [
       "<Figure size 640x480 with 1 Axes>"
      ]
     },
     "metadata": {},
     "output_type": "display_data"
    }
   ],
   "source": [
    "heart_stroke_crosstab = pd.crosstab(df['heart_disease'], df['stroke'])\n",
    "# Tính tỷ lệ phần trăm bệnh nhân có đột quỵ trong mỗi nhóm\n",
    "stroke_rate = heart_stroke_crosstab.div(heart_stroke_crosstab.sum(axis=1), axis=0) * 100\n",
    "\n",
    "# Vẽ biểu đồ thanh tỷ lệ phần trăm\n",
    "stroke_rate.plot(kind='bar', stacked=True, color=['blue', 'red'])\n",
    "plt.title('Stroke Rate by Heart Disease')\n",
    "plt.xlabel('Heart Disease (0: No, 1: Yes)')\n",
    "plt.ylabel('Percentage (%)')\n",
    "plt.legend(['No Stroke', 'Stroke'])\n",
    "plt.xticks(rotation=0)\n",
    "plt.ylim(0, 100)  # Giới hạn trục y từ 0 đến 100\n",
    "\n",
    "# Hiển thị giá trị trên các cột\n",
    "for index, value in enumerate(stroke_rate[1]):\n",
    "    plt.text(index, value + 1, f'{value:.2f}%', ha='center')\n",
    "\n",
    "plt.show()\n"
   ]
  },
  {
   "cell_type": "code",
   "execution_count": 42,
   "id": "e7d20397",
   "metadata": {},
   "outputs": [
    {
     "data": {
      "image/png": "[encoded data removed]",
      "text/plain": [
       "<Figure size 1200x800 with 2 Axes>"
      ]
     },
     "metadata": {},
     "output_type": "display_data"
    }
   ],
   "source": [
    "corr_matrix = df.corr()\n",
    "\n",
    "plt.figure(figsize=(12, 8))\n",
    "sns.heatmap(corr_matrix, annot=True, linewidth=0.5, fmt='.2f', cmap='viridis_r');"
   ]
  },
  {
   "cell_type": "markdown",
   "id": "a8bd9eff",
   "metadata": {},
   "source": [
    "## Modelling"
   ]
  },
  {
   "cell_type": "code",
   "execution_count": 65,
   "id": "b552bcfc",
   "metadata": {},
   "outputs": [
    {
     "data": {
      "text/html": [
       "<div>\n",
       "<style scoped>\n",
       "    .dataframe tbody tr th:only-of-type {\n",
       "        vertical-align: middle;\n",
       "    }\n",
       "\n",
       "    .dataframe tbody tr th {\n",
       "        vertical-align: top;\n",
       "    }\n",
       "\n",
       "    .dataframe thead th {\n",
       "        text-align: right;\n",
       "    }\n",
       "</style>\n",
       "<table border=\"1\" class=\"dataframe\">\n",
       "  <thead>\n",
       "    <tr style=\"text-align: right;\">\n",
       "      <th></th>\n",
       "      <th>gender</th>\n",
       "      <th>age</th>\n",
       "      <th>hypertension</th>\n",
       "      <th>heart_disease</th>\n",
       "      <th>ever_married</th>\n",
       "      <th>work_type</th>\n",
       "      <th>Residence_type</th>\n",
       "      <th>avg_glucose_level</th>\n",
       "      <th>bmi</th>\n",
       "      <th>smoking_status</th>\n",
       "      <th>stroke</th>\n",
       "    </tr>\n",
       "  </thead>\n",
       "  <tbody>\n",
       "    <tr>\n",
       "      <th>0</th>\n",
       "      <td>1</td>\n",
       "      <td>67</td>\n",
       "      <td>0</td>\n",
       "      <td>1</td>\n",
       "      <td>1</td>\n",
       "      <td>2</td>\n",
       "      <td>1</td>\n",
       "      <td>0</td>\n",
       "      <td>1</td>\n",
       "      <td>1</td>\n",
       "      <td>1</td>\n",
       "    </tr>\n",
       "    <tr>\n",
       "      <th>1</th>\n",
       "      <td>1</td>\n",
       "      <td>80</td>\n",
       "      <td>0</td>\n",
       "      <td>1</td>\n",
       "      <td>1</td>\n",
       "      <td>2</td>\n",
       "      <td>0</td>\n",
       "      <td>2</td>\n",
       "      <td>1</td>\n",
       "      <td>0</td>\n",
       "      <td>1</td>\n",
       "    </tr>\n",
       "    <tr>\n",
       "      <th>2</th>\n",
       "      <td>0</td>\n",
       "      <td>49</td>\n",
       "      <td>0</td>\n",
       "      <td>0</td>\n",
       "      <td>1</td>\n",
       "      <td>2</td>\n",
       "      <td>1</td>\n",
       "      <td>0</td>\n",
       "      <td>1</td>\n",
       "      <td>1</td>\n",
       "      <td>1</td>\n",
       "    </tr>\n",
       "    <tr>\n",
       "      <th>3</th>\n",
       "      <td>0</td>\n",
       "      <td>79</td>\n",
       "      <td>1</td>\n",
       "      <td>0</td>\n",
       "      <td>1</td>\n",
       "      <td>3</td>\n",
       "      <td>0</td>\n",
       "      <td>0</td>\n",
       "      <td>0</td>\n",
       "      <td>0</td>\n",
       "      <td>1</td>\n",
       "    </tr>\n",
       "    <tr>\n",
       "      <th>4</th>\n",
       "      <td>1</td>\n",
       "      <td>81</td>\n",
       "      <td>0</td>\n",
       "      <td>0</td>\n",
       "      <td>1</td>\n",
       "      <td>2</td>\n",
       "      <td>1</td>\n",
       "      <td>0</td>\n",
       "      <td>2</td>\n",
       "      <td>1</td>\n",
       "      <td>1</td>\n",
       "    </tr>\n",
       "  </tbody>\n",
       "</table>\n",
       "</div>"
      ],
      "text/plain": [
       "   gender  age hypertension heart_disease  ever_married  work_type  \\\n",
       "0       1   67            0             1             1          2   \n",
       "1       1   80            0             1             1          2   \n",
       "2       0   49            0             0             1          2   \n",
       "3       0   79            1             0             1          3   \n",
       "4       1   81            0             0             1          2   \n",
       "\n",
       "   Residence_type  avg_glucose_level  bmi  smoking_status stroke  \n",
       "0               1                  0    1               1      1  \n",
       "1               0                  2    1               0      1  \n",
       "2               1                  0    1               1      1  \n",
       "3               0                  0    0               0      1  \n",
       "4               1                  0    2               1      1  "
      ]
     },
     "execution_count": 65,
     "metadata": {},
     "output_type": "execute_result"
    }
   ],
   "source": [
    "df.head()"
   ]
  },
  {
   "cell_type": "code",
   "execution_count": 68,
   "id": "e458177f",
   "metadata": {},
   "outputs": [
    {
     "data": {
      "text/plain": [
       "array([[1, 67, 0, ..., 0, 1, 1],\n",
       "       [1, 80, 0, ..., 2, 1, 0],\n",
       "       [0, 49, 0, ..., 0, 1, 1],\n",
       "       ...,\n",
       "       [0, 81, 0, ..., 2, 1, 0],\n",
       "       [0, 35, 0, ..., 1, 1, 0],\n",
       "       [1, 51, 0, ..., 0, 2, 1]], dtype=object)"
      ]
     },
     "execution_count": 68,
     "metadata": {},
     "output_type": "execute_result"
    }
   ],
   "source": [
    "X"
   ]
  },
  {
   "cell_type": "code",
   "execution_count": 69,
   "id": "3bc241fb",
   "metadata": {},
   "outputs": [
    {
     "data": {
      "text/plain": [
       "0       1\n",
       "1       1\n",
       "2       1\n",
       "3       1\n",
       "4       1\n",
       "       ..\n",
       "3420    0\n",
       "3421    0\n",
       "3422    0\n",
       "3423    0\n",
       "3424    0\n",
       "Name: stroke, Length: 3425, dtype: object"
      ]
     },
     "execution_count": 69,
     "metadata": {},
     "output_type": "execute_result"
    }
   ],
   "source": [
    "y"
   ]
  },
  {
   "cell_type": "code",
   "execution_count": null,
   "id": "7f81044f",
   "metadata": {},
   "outputs": [],
   "source": []
  }
 ],
 "metadata": {
  "kernelspec": {
   "display_name": "Python 3 (ipykernel)",
   "language": "python",
   "name": "python3"
  },
  "language_info": {
   "codemirror_mode": {
    "name": "ipython",
    "version": 3
   },
   "file_extension": ".py",
   "mimetype": "text/x-python",
   "name": "python",
   "nbconvert_exporter": "python",
   "pygments_lexer": "ipython3",
   "version": "3.9.13"
  }
 },
 "nbformat": 4,
 "nbformat_minor": 5
}
